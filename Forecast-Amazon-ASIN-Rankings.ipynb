{
 "cells": [
  {
   "cell_type": "code",
   "execution_count": null,
   "id": "73ee255a",
   "metadata": {},
   "outputs": [],
   "source": [
    "import pandas as pd\n",
    "import matplotlib.pyplot as plt\n",
    "import statsmodels.api as sm\n",
    "from sklearn.tree import DecisionTreeRegressor"
   ]
  },
  {
   "cell_type": "code",
   "execution_count": null,
   "id": "94ec83d2",
   "metadata": {},
   "outputs": [],
   "source": [
    "# Load the monthly report data into a Pandas DataFrame\n",
    "df = pd.read_csv(\"monthly_report.csv\")"
   ]
  },
  {
   "cell_type": "code",
   "execution_count": null,
   "id": "14dc54e5",
   "metadata": {},
   "outputs": [],
   "source": [
    "# Count the frequency of each ASIN\n",
    "asin_counts = df['ASIN'].value_counts()"
   ]
  },
  {
   "cell_type": "code",
   "execution_count": null,
   "id": "e739910b",
   "metadata": {},
   "outputs": [],
   "source": [
    "# Plot the frequency of each ASIN\n",
    "asin_counts.plot(kind='bar', title='ASIN Frequency')\n",
    "plt.xlabel('ASIN')\n",
    "plt.ylabel('Frequency')\n",
    "plt.show()"
   ]
  },
  {
   "cell_type": "code",
   "execution_count": null,
   "id": "6acfeb91",
   "metadata": {},
   "outputs": [],
   "source": [
    "# Group the data by keyword and calculate the frequency of each keyword\n",
    "keyword_counts = df.groupby('Keyword')['Keyword'].count()"
   ]
  },
  {
   "cell_type": "code",
   "execution_count": null,
   "id": "4378051e",
   "metadata": {},
   "outputs": [],
   "source": [
    "# Plot the trend of each keyword\n",
    "keyword_counts.plot(title='Keyword Trend')\n",
    "plt.xlabel('Keyword')\n",
    "plt.ylabel('Frequency')\n",
    "plt.show()"
   ]
  },
  {
   "cell_type": "code",
   "execution_count": null,
   "id": "f86fbbc9",
   "metadata": {},
   "outputs": [],
   "source": [
    "# Train an ARIMA model on the keyword data to forecast future trends\n",
    "arima_model = sm.tsa.ARIMA(keyword_counts, order=(1, 0, 1)).fit()\n",
    "forecast = arima_model.forecast(steps=12)  # forecast for the next 12 months"
   ]
  },
  {
   "cell_type": "code",
   "execution_count": null,
   "id": "1ff48133",
   "metadata": {},
   "outputs": [],
   "source": [
    "# Plot the forecasted trend of each keyword\n",
    "forecast.plot(title='Forecasted Keyword Trend')\n",
    "plt.xlabel('Month')\n",
    "plt.ylabel('Frequency')\n",
    "plt.show()"
   ]
  },
  {
   "cell_type": "code",
   "execution_count": null,
   "id": "a245170d",
   "metadata": {},
   "outputs": [],
   "source": [
    "# Train a decision tree on the ASIN data to predict future rankings\n",
    "x = df.drop(['ASIN', 'Rank'], axis=1)\n",
    "y = df['Rank']\n",
    "regressor = DecisionTreeRegressor().fit(x, y)"
   ]
  },
  {
   "cell_type": "code",
   "execution_count": null,
   "id": "4d5f581f",
   "metadata": {},
   "outputs": [],
   "source": [
    "# Predict the future rankings of the ASINs\n",
    "asin_rank_predictions = regressor.predict(x)"
   ]
  },
  {
   "cell_type": "code",
   "execution_count": null,
   "id": "8bd648f1",
   "metadata": {},
   "outputs": [],
   "source": [
    "# Plot the predicted rankings of each ASIN\n",
    "plt.scatter(df['ASIN'], asin_rank_predictions)\n",
    "plt.title('Predicted ASIN Rankings')\n",
    "plt.xlabel('ASIN')\n",
    "plt.ylabel('Rank')\n",
    "plt.show()"
   ]
  }
 ],
 "metadata": {
  "kernelspec": {
   "display_name": "Python 3",
   "language": "python",
   "name": "python3"
  },
  "language_info": {
   "codemirror_mode": {
    "name": "ipython",
    "version": 3
   },
   "file_extension": ".py",
   "mimetype": "text/x-python",
   "name": "python",
   "nbconvert_exporter": "python",
   "pygments_lexer": "ipython3",
   "version": "3.8.8"
  }
 },
 "nbformat": 4,
 "nbformat_minor": 5
}
