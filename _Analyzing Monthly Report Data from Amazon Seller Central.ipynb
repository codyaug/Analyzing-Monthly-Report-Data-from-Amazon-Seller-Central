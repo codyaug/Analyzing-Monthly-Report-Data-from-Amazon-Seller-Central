{
 "cells": [
  {
   "cell_type": "code",
   "execution_count": null,
   "id": "9261753c",
   "metadata": {},
   "outputs": [],
   "source": [
    "import os\n",
    "import glob\n",
    "import pandas as pd\n",
    "import matplotlib.pyplot as plt\n",
    "import statsmodels.api as sm\n",
    "from sklearn.tree import DecisionTreeRegressor"
   ]
  },
  {
   "cell_type": "code",
   "execution_count": null,
   "id": "4dd20b8a",
   "metadata": {},
   "outputs": [],
   "source": [
    "# List of file paths to monthly reports\n",
    "files = [\n",
    "    \"C:\\\\Users\\\\Dovid Glassner\\Downloads\\monthly_report.1.2022.csv\",\n",
    "    \"C:\\\\Users\\\\Dovid Glassner\\Downloads\\monthly_report.2.2022.csv\",\n",
    "    \"C:\\\\Users\\\\Dovid Glassner\\Downloads\\monthly_report.3.2022.csv\",\n",
    "    \"C:\\\\Users\\\\Dovid Glassner\\Downloads\\monthly_report.4.2022.csv\"\n",
    "]"
   ]
  },
  {
   "cell_type": "code",
   "execution_count": null,
   "id": "8103ecd1",
   "metadata": {},
   "outputs": [],
   "source": [
    "# List to store the valid (existing) files\n",
    "valid_files = []"
   ]
  },
  {
   "cell_type": "code",
   "execution_count": 4,
   "id": "0c608c74",
   "metadata": {},
   "outputs": [],
   "source": [
    "# Loop through the list of file paths\n",
    "for file in files:\n",
    "    # Check if the file exists\n",
    "    if os.path.exists(file):\n",
    "        # If it exists, add it to the list of valid files\n",
    "        valid_files.append(file)\n",
    "    else:\n",
    "        # If it doesn't exist, print a message indicating the missing file\n",
    "        print(f\"File not found: {file}\")"
   ]
  },
  {
   "cell_type": "code",
   "execution_count": 5,
   "id": "a405e02b",
   "metadata": {},
   "outputs": [],
   "source": [
    "# Check if there are any valid files\n",
    "if valid_files:\n",
    "    # If there are, concatenate the valid files into a single DataFrame\n",
    "    df = pd.concat([pd.read_csv(file) for file in valid_files])\n",
    "else:\n",
    "    # If there aren't, print a message indicating that there are no valid files\n",
    "    print(\"No valid files to concatenate.\")"
   ]
  },
  {
   "cell_type": "code",
   "execution_count": 6,
   "id": "882a471d",
   "metadata": {},
   "outputs": [],
   "source": [
    "# Load the monthly report data into a Pandas DataFrame\n",
    "df = df"
   ]
  },
  {
   "cell_type": "code",
   "execution_count": 7,
   "id": "66142071",
   "metadata": {},
   "outputs": [
    {
     "data": {
      "text/plain": [
       "Index(['Department', 'Search Term', 'Search Frequency Rank', '#1 Clicked ASIN',\n",
       "       '#1 Product Title', '#1 Click Share', '#1 Conversion Share',\n",
       "       '#2 Clicked ASIN', '#2 Product Title', '#2 Click Share',\n",
       "       '#2 Conversion Share', '#3 Clicked ASIN', '#3 Product Title',\n",
       "       '#3 Click Share', '#3 Conversion Share'],\n",
       "      dtype='object')"
      ]
     },
     "execution_count": 7,
     "metadata": {},
     "output_type": "execute_result"
    }
   ],
   "source": [
    "df.columns"
   ]
  },
  {
   "cell_type": "code",
   "execution_count": 8,
   "id": "3291f1cd",
   "metadata": {},
   "outputs": [],
   "source": [
    "# Create a list of the ASIN columns\n",
    "asin_columns = ['#1 Clicked ASIN', '#2 Clicked ASIN', '#3 Clicked ASIN']"
   ]
  },
  {
   "cell_type": "code",
   "execution_count": 9,
   "id": "3c6ef501",
   "metadata": {},
   "outputs": [],
   "source": [
    "# Combine the values from the ASIN columns into a single series\n",
    "asin_series = df[asin_columns].stack().dropna()"
   ]
  },
  {
   "cell_type": "code",
   "execution_count": 10,
   "id": "a9db91b3",
   "metadata": {},
   "outputs": [],
   "source": [
    "# Count the frequency of each ASIN\n",
    "asin_counts = asin_series.value_counts()"
   ]
  },
  {
   "cell_type": "code",
   "execution_count": null,
   "id": "a2d8ab2b",
   "metadata": {},
   "outputs": [],
   "source": [
    "# Print the result\n",
    "print(asin_counts)"
   ]
  },
  {
   "cell_type": "code",
   "execution_count": null,
   "id": "e7aecbc5",
   "metadata": {},
   "outputs": [],
   "source": [
    "# Only show for Search Frequency Ranck between and specific range & replace any non-numeric values with NaN\n",
    "df['Search Frequency Rank'] = pd.to_numeric(df['Search Frequency Rank'], errors='coerce')\n",
    "df = df[(df['Search Frequency Rank'] >= 200000) & (df['Search Frequency Rank'] <= 300000)].dropna()"
   ]
  },
  {
   "cell_type": "code",
   "execution_count": null,
   "id": "43a4e399",
   "metadata": {},
   "outputs": [],
   "source": [
    "# Show the ASINs that appear more than 5 times but less than or equal to 20 times\n",
    "asin_counts = asin_counts[(asin_counts > 5) & (asin_counts <= 10)]"
   ]
  },
  {
   "cell_type": "code",
   "execution_count": null,
   "id": "f1d616f7",
   "metadata": {},
   "outputs": [],
   "source": [
    "# Plot the frequency of each ASIN as a bar graph\n",
    "asin_counts.plot(kind='bar', title='ASIN Frequency')\n",
    "plt.xlabel('ASIN')\n",
    "plt.ylabel('Frequency')\n",
    "plt.show()"
   ]
  },
  {
   "cell_type": "code",
   "execution_count": null,
   "id": "7823799c",
   "metadata": {},
   "outputs": [],
   "source": [
    "# Group the data by keyword and calculate the frequency of each keyword\n",
    "keyword_counts = df.groupby('ASIN')['ASIN'].count()\n",
    "\n",
    "# Plot the trend of each keyword\n",
    "keyword_counts.plot(title='Keyword Trend')\n",
    "plt.xlabel('Keyword')\n",
    "plt.ylabel('Frequency')\n",
    "plt.show()"
   ]
  },
  {
   "cell_type": "code",
   "execution_count": null,
   "id": "21ec7fd2",
   "metadata": {},
   "outputs": [],
   "source": [
    "# Train an ARIMA model on the keyword data to forecast future trends\n",
    "arima_model = sm.tsa.ARIMA(keyword_counts, order=(1, 0, 1)).fit()\n",
    "forecast = arima_model.forecast(steps=12)  # forecast for the next 12 months"
   ]
  },
  {
   "cell_type": "code",
   "execution_count": null,
   "id": "4a02979c",
   "metadata": {},
   "outputs": [],
   "source": [
    "# Plot the forecasted trend of each keyword\n",
    "forecast.plot(title='Forecasted Keyword Trend')\n",
    "plt.xlabel('Month')\n",
    "plt.ylabel('Frequency')\n",
    "plt.show()"
   ]
  },
  {
   "cell_type": "code",
   "execution_count": null,
   "id": "2d9e4d2d",
   "metadata": {},
   "outputs": [],
   "source": [
    "# Train a decision tree on the ASIN data to predict future rankings\n",
    "x = df.drop(['ASIN', 'Rank'], axis=1)\n",
    "y = df['Rank']\n",
    "regressor = DecisionTreeRegressor().fit(x, y)"
   ]
  },
  {
   "cell_type": "code",
   "execution_count": null,
   "id": "234d5e0a",
   "metadata": {},
   "outputs": [],
   "source": [
    "# Predict the future rankings of the ASINs\n",
    "asin_rank_predictions = regressor.predict(x)\n",
    "\n",
    "# Plot the predicted rankings of each ASIN\n",
    "plt.scatter(df['ASIN'], asin_rank_predictions)\n",
    "plt.title('Predicted ASIN Rankings')\n",
    "plt.xlabel('ASIN')\n",
    "plt.ylabel('Rank')\n",
    "plt.show()\n"
   ]
  }
 ],
 "metadata": {
  "kernelspec": {
   "display_name": "Python 3 (ipykernel)",
   "language": "python",
   "name": "python3"
  },
  "language_info": {
   "codemirror_mode": {
    "name": "ipython",
    "version": 3
   },
   "file_extension": ".py",
   "mimetype": "text/x-python",
   "name": "python",
   "nbconvert_exporter": "python",
   "pygments_lexer": "ipython3",
   "version": "3.9.13"
  }
 },
 "nbformat": 4,
 "nbformat_minor": 5
}
